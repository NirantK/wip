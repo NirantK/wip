{
 "cells": [
  {
   "cell_type": "markdown",
   "metadata": {},
   "source": [
    "# Tutorial: Building a Recency-Aware Question-Answering System with Llama-Index\n",
    "\n",
    "\n",
    "In this tutorial, we will learn how to build a question-answering system that is aware of the recency of information. This is especially important for questions whose answers may change over time, such as \"Who is the current US President?\".\n",
    "\n",
    "We will be using the llama_index package, a powerful tool for building large-scale information retrieval systems."
   ]
  },
  {
   "cell_type": "markdown",
   "metadata": {},
   "source": [
    "## Installing necessary packages\n",
    "Before we start, make sure that you have the llama_index package installed. You can install it using pip:"
   ]
  },
  {
   "cell_type": "code",
   "execution_count": 1,
   "metadata": {},
   "outputs": [],
   "source": [
    "# !pip install llama-index "
   ]
  },
  {
   "cell_type": "markdown",
   "metadata": {},
   "source": [
    "You will also need the qdrant_client package for this tutorial. You can install it via pip as well:"
   ]
  },
  {
   "cell_type": "code",
   "execution_count": 2,
   "metadata": {},
   "outputs": [],
   "source": [
    "# !pip install qdrant-client"
   ]
  },
  {
   "cell_type": "code",
   "execution_count": 3,
   "metadata": {},
   "outputs": [],
   "source": [
    "import qdrant_client\n",
    "from datetime import datetime\n",
    "from llama_index import GPTVectorStoreIndex\n",
    "\n",
    "from llama_index.vector_stores.qdrant import QdrantVectorStore\n",
    "from pathlib import Path\n",
    "from llama_index import GPTVectorStoreIndex, SimpleDirectoryReader, ServiceContext\n",
    "from llama_index.indices.postprocessor import (\n",
    "    FixedRecencyPostprocessor,\n",
    "    EmbeddingRecencyPostprocessor,\n",
    ")\n",
    "# load documents\n",
    "from llama_index.storage.storage_context import StorageContext\n",
    "Path.ls = lambda x: list(x.iterdir())"
   ]
  },
  {
   "cell_type": "markdown",
   "metadata": {},
   "source": [
    "# Loading Documents\n",
    "\n",
    "First, let's load our documents. In this example, we will use the News Category Dataset v3. This dataset contains news articles with various fields like `headline`, `category`, `short_description`, `link`, `authors`, and date. We'll load the data, and reformat it to suit our needs."
   ]
  },
  {
   "cell_type": "code",
   "execution_count": 4,
   "metadata": {},
   "outputs": [],
   "source": [
    "import json\n",
    "\n",
    "with open(\"../data/News_Category_Dataset_v3.json\", \"r\") as f:\n",
    "    data = [json.loads(k) for k in f.readlines()]\n",
    "    links = [k.pop(\"link\") for k in data]\n",
    "    authors = [k.pop(\"authors\") for k in data]\n",
    "    data = [\n",
    "        {\n",
    "            \"text\": f\"{k['headline']} under the category: {k['category']}\\n {k['short_description']}\",\n",
    "            \"date\": k[\"date\"],\n",
    "        }\n",
    "        for k in data\n",
    "    ]"
   ]
  },
  {
   "cell_type": "code",
   "execution_count": 65,
   "metadata": {},
   "outputs": [
    {
     "data": {
      "text/plain": [
       "(datetime.datetime(2012, 1, 28, 0, 0), datetime.datetime(2022, 9, 23, 0, 0))"
      ]
     },
     "execution_count": 65,
     "metadata": {},
     "output_type": "execute_result"
    }
   ],
   "source": [
    "import datetime\n",
    "dates = [datetime.datetime.fromisoformat(element[\"date\"]) for element in data]\n",
    "min(dates), max(dates)"
   ]
  },
  {
   "cell_type": "markdown",
   "metadata": {},
   "source": [
    "Next, we'll write these documents to text files in a directory. Each document will be written to a text file named by its date."
   ]
  },
  {
   "cell_type": "code",
   "execution_count": 5,
   "metadata": {},
   "outputs": [],
   "source": [
    "from pathlib import Path\n",
    "\n",
    "write_dir = Path(\"../data/dump\").resolve()\n",
    "write_dir.mkdir(exist_ok=True, parents=True)\n",
    "for element in data:\n",
    "    file_path = write_dir / f\"{element['date']}.txt\"\n",
    "    with file_path.open(\"w\") as f:\n",
    "        f.write(element[\"text\"])\n"
   ]
  },
  {
   "cell_type": "markdown",
   "metadata": {},
   "source": [
    "This is what we want to build:\n",
    "\n",
    "This diagram shows that:\n",
    "\n",
    "1. The user issues a query to the query engine.\n",
    "2. The query engine, which has been configured with certain postprocessors, performs a search on the vector store based on the query.\n",
    "3. The query engine then postprocesses the results.\n",
    "4. The postprocessed results are then returned to the user.\n",
    "\n",
    "Each arrow represents the direction of data flow. The \"Query Engine\" box encapsulates the postprocessing step to indicate that it's a part of the query engine's function. This diagram is meant to provide a high-level understanding of the process and does not include all the details involved.\n",
    "\n",
    "\n",
    "We're using Llama Index to make the Query Engine and Qdrant for our Vector Store\n",
    "\n",
    "\n",
    "\n",
    "```\n",
    "+-----------+          +------------------+          +-----------------+\n",
    "|           |  Query   |                  |  Search  |                 |\n",
    "|  User     +--------->+  Query Engine    +--------->+     Qdrant      |\n",
    "|           |          |                  |          |   Vector Store  |\n",
    "|           |          | (with            |          |                 |\n",
    "+-----------+          | Postprocessors)  |          +-----------------+\n",
    "                       |                  |          |                 |\n",
    "                       |  +------------+  |          |                 |\n",
    "                       |  |Postprocess |  |  Top K   |                 | \n",
    "                       |  |            |  |Candidates|                 |\n",
    "                       +--|Candidates  |  +<---------+                 |\n",
    "                       |  +------------+  |                            |\n",
    "                       |                  |                            |\n",
    "+-----------+          +------------------+                            |\n",
    "|           |   Final  |                                               |\n",
    "|  User     |<---------+                                               |\n",
    "|           |  Answer  |                                               |\n",
    "+-----------+                                                          |\n",
    "                                                                       |\n",
    "+---------------------------------------------------------------------+\n",
    "```"
   ]
  },
  {
   "cell_type": "markdown",
   "metadata": {},
   "source": [
    "## Creating Qdrant Client\n",
    "We'll be using Qdrant as our vector storage system. Qdrant is a high-performance vector database designed for storing and searching large-scale high-dimensional vectors.\n",
    "\n",
    "- You can use `:memory:` mode for fast and lightweight experiments. It does not require Qdrant to be deployed anywhere but requires `qdrant-client >= 1.1.1`.\n",
    "\n",
    "- Otherwise, set the Qdrant instance address with:\n",
    "  - `uri=\"http://<host>:<port>\"`\n",
    "\n",
    "- Set the API KEY for Qdrant Cloud:\n",
    "  - `api_key=\"<qdrant-api-key>\"`"
   ]
  },
  {
   "cell_type": "code",
   "execution_count": 6,
   "metadata": {},
   "outputs": [],
   "source": [
    "client = qdrant_client.QdrantClient(\n",
    "    location=\":memory:\"\n",
    ")"
   ]
  },
  {
   "cell_type": "markdown",
   "metadata": {},
   "source": [
    "## Loading Data into Llama-Index\n",
    "Llama-Index has a simple way to load documents from a directory. We can define a function to get the metadata from a file name, and pass this function to the `SimpleDirectoryReader` class."
   ]
  },
  {
   "cell_type": "code",
   "execution_count": 7,
   "metadata": {},
   "outputs": [],
   "source": [
    "def get_file_metadata(file_name: str):\n",
    "    \"\"\"Get file metadata.\"\"\"\n",
    "    return {\"date\": Path(file_name).stem}\n",
    "\n",
    "\n",
    "documents = SimpleDirectoryReader(\n",
    "    input_files=write_dir.ls(), file_metadata=get_file_metadata\n",
    ").load_data()"
   ]
  },
  {
   "cell_type": "markdown",
   "metadata": {},
   "source": [
    "We then parse these documents into nodes and create our QdrantVectorStore"
   ]
  },
  {
   "cell_type": "code",
   "execution_count": 8,
   "metadata": {},
   "outputs": [],
   "source": [
    "from llama_index import GPTVectorStoreIndex, SimpleDirectoryReader, ServiceContext\n",
    "from llama_index.vector_stores.qdrant import QdrantVectorStore\n",
    "\n",
    "# define service context (wrapper container around current classes)\n",
    "service_context = ServiceContext.from_defaults(chunk_size_limit=512)\n",
    "\n",
    "# use node parser in service context to parse into nodes\n",
    "nodes = service_context.node_parser.get_nodes_from_documents(documents)\n",
    "vector_store = QdrantVectorStore(client=client, collection_name=\"huffpostnews\")"
   ]
  },
  {
   "cell_type": "markdown",
   "metadata": {},
   "source": [
    "Next, we'll create our `GPTVectorStoreIndex` from the documents. This operation might take some time as it's creating the index from the documents."
   ]
  },
  {
   "cell_type": "code",
   "execution_count": 9,
   "metadata": {},
   "outputs": [
    {
     "name": "stdout",
     "output_type": "stream",
     "text": [
      "CPU times: user 8.79 s, sys: 909 ms, total: 9.7 s\n",
      "Wall time: 7min 4s\n"
     ]
    }
   ],
   "source": [
    "%%time\n",
    "from llama_index.storage.storage_context import StorageContext\n",
    "\n",
    "storage_context = StorageContext.from_defaults(vector_store=vector_store)\n",
    "index = GPTVectorStoreIndex.from_documents(documents, storage_context=storage_context)"
   ]
  },
  {
   "cell_type": "markdown",
   "metadata": {},
   "source": [
    "## Defining Recency Postprocessors\n",
    "\n",
    "Llama-Index allows us to add postprocessors to our query engine. These postprocessors can modify the results of our queries after they are returned from the index. Here, we'll add a recency postprocessor to our query engine. This postprocessor will prioritize recent documents in the results.\n",
    "\n",
    "We'll define two types of recency postprocessors - `FixedRecencyPostprocessor` and `EmbeddingRecencyPostprocessor`."
   ]
  },
  {
   "cell_type": "code",
   "execution_count": 10,
   "metadata": {},
   "outputs": [],
   "source": [
    "recency_postprocessor = FixedRecencyPostprocessor(service_context=service_context)"
   ]
  },
  {
   "cell_type": "markdown",
   "metadata": {},
   "source": [
    "# Incorporating Reranking using Cohere\n",
    "Cohere is a powerful AI model that can help us rerank our results. We'll define a `CohereRerank` postprocessor and add it to our query engine.\n",
    "\n",
    "First, install the cohere package:"
   ]
  },
  {
   "cell_type": "code",
   "execution_count": 11,
   "metadata": {},
   "outputs": [],
   "source": [
    "# !pip install cohere"
   ]
  },
  {
   "cell_type": "markdown",
   "metadata": {},
   "source": [
    "Using it in our code:"
   ]
  },
  {
   "cell_type": "code",
   "execution_count": 24,
   "metadata": {},
   "outputs": [],
   "source": [
    "import os\n",
    "from llama_index.indices.postprocessor.cohere_rerank import CohereRerank"
   ]
  },
  {
   "cell_type": "markdown",
   "metadata": {},
   "source": [
    "## Defining Query Engines\n",
    "We'll define four query engines for this tutorial: \n",
    "1. Just the Vector Store i.e. Qdrant here\n",
    "1. A recency query engine\n",
    "1. A reranking query engine\n",
    "1. And a combined query engine.\n",
    "\n",
    "The recency query engine uses the `FixedRecencyPostprocessor`, the reranking query engine uses the `CohereRerank` postprocessor, and the combined query engine uses both."
   ]
  },
  {
   "cell_type": "code",
   "execution_count": 72,
   "metadata": {},
   "outputs": [],
   "source": [
    "from pydantic import BaseModel\n",
    "from typing import Optional\n",
    "\n",
    "class Interaction(BaseModel):\n",
    "    question: str\n",
    "    answer: Optional[str] = None\n",
    "    response: Optional[object] = None"
   ]
  },
  {
   "cell_type": "code",
   "execution_count": 35,
   "metadata": {},
   "outputs": [],
   "source": [
    "top_k = 10"
   ]
  },
  {
   "cell_type": "code",
   "execution_count": 36,
   "metadata": {},
   "outputs": [],
   "source": [
    "index_query_engine = index.as_query_engine(\n",
    "    similarity_top_k=top_k,\n",
    ") "
   ]
  },
  {
   "cell_type": "code",
   "execution_count": 37,
   "metadata": {},
   "outputs": [],
   "source": [
    "recency_query_engine = index.as_query_engine(\n",
    "    similarity_top_k=top_k,\n",
    "    node_postprocessors=[recency_postprocessor],\n",
    ") "
   ]
  },
  {
   "cell_type": "code",
   "execution_count": 38,
   "metadata": {},
   "outputs": [],
   "source": [
    "cohere_rerank = CohereRerank(api_key=os.environ[\"COHERE_API_KEY\"], top_n=top_k)\n",
    "reranking_query_engine = index.as_query_engine(\n",
    "    similarity_top_k=top_k,\n",
    "    node_postprocessors=[cohere_rerank],\n",
    ") "
   ]
  },
  {
   "cell_type": "code",
   "execution_count": 39,
   "metadata": {},
   "outputs": [],
   "source": [
    "query_engine = index.as_query_engine(\n",
    "    similarity_top_k=top_k,\n",
    "    node_postprocessors=[cohere_rerank, recency_postprocessor],\n",
    ")"
   ]
  },
  {
   "cell_type": "markdown",
   "metadata": {},
   "source": [
    "## Querying the Engine\n",
    "Finally, we can query our engine. Let's ask it \"Who is the current US President?\" and see the results from each query engine."
   ]
  },
  {
   "cell_type": "code",
   "execution_count": 68,
   "metadata": {},
   "outputs": [
    {
     "name": "stdout",
     "output_type": "stream",
     "text": [
      "********************************\n",
      "Question: Who is the current US President?\n",
      "********************************\n",
      "No Postprocessor, Qdrant: \n",
      "The current US President is Joe Biden.\n",
      "Recency: \n",
      "The current US President is Joe Biden.\n",
      "Reranking: \n",
      "The current US President is Joe Biden.\n",
      "Both: \n",
      "The current US President is Joe Biden.\n"
     ]
    },
    {
     "data": {
      "text/plain": [
       "'Correct answer is Joe Biden'"
      ]
     },
     "execution_count": 68,
     "metadata": {},
     "output_type": "execute_result"
    }
   ],
   "source": [
    "question = \"Who is the current US President?\"\n",
    "\n",
    "def compare_responses(question: QA)->None:\n",
    "    responses = {}\n",
    "    print(\"*\"*len(question))\n",
    "    print(f\"Question: {question}\")\n",
    "    print(\"*\"*len(question))\n",
    "    response = index_query_engine.query(question)\n",
    "    responses[\"qdrant\"] = response\n",
    "    print(\"No Postprocessor, Qdrant:\", response)\n",
    "    response = recency_query_engine.query(question)\n",
    "    responses[\"recency\"] = response\n",
    "    print(\"Recency:\", response)\n",
    "    response = reranking_query_engine.query(question)\n",
    "    responses[\"reranking\"] = response\n",
    "    print(\"Reranking:\", response)\n",
    "    response = query_engine.query(question)\n",
    "    responses[\"both\"] = response\n",
    "    print(\"Both:\", response)\n",
    "    return responses\n",
    "\n",
    "responses = compare_responses(question)\n",
    "\"Correct answer is Joe Biden\""
   ]
  },
  {
   "cell_type": "code",
   "execution_count": 71,
   "metadata": {},
   "outputs": [
    {
     "data": {
      "text/plain": [
       "[NodeWithScore(node=Node(text='date: 2021-06-13\\n\\nPresident Biden Meets With Queen Elizabeth At Windsor Castle under the category: WORLD NEWS\\n Biden, who is in the U.K. for the Group of Seven leaders summit, is the 13th American president\\xa0to meet the monarch.', doc_id='5426d444-bbd9-48b1-b28b-15b962e62fac', embedding=None, doc_hash='83f86814916cf2880a3bc224ad557ee0e0cc90087aadf2f87784bc786f305129', extra_info={'date': '2021-06-13'}, node_info=None, relationships={<DocumentRelationship.SOURCE: '1'>: 'be12eaa3-c220-4182-b24d-a8c1518cbf77'}), score=0.1322902)]"
      ]
     },
     "execution_count": 71,
     "metadata": {},
     "output_type": "execute_result"
    }
   ],
   "source": [
    "responses[\"both\"].source_nodes"
   ]
  },
  {
   "cell_type": "code",
   "execution_count": 74,
   "metadata": {},
   "outputs": [
    {
     "name": "stdout",
     "output_type": "stream",
     "text": [
      "******************************\n",
      "Question: When did Mughals invade India?\n",
      "******************************\n",
      "No Postprocessor, Qdrant: \n",
      "The Mughals invaded India in 1526.\n",
      "Recency: \n",
      "The Mughal Empire began in 1526 when Babur, a Central Asian ruler, invaded India and established the Mughal dynasty.\n",
      "Reranking: \n",
      "The Mughals invaded India in the 16th century.\n",
      "Both: \n",
      "The Mughal Empire began in 1526 when Babur, a Central Asian ruler, invaded India and established the Mughal dynasty.\n",
      "Correct answer is Babur's victory in Battle of Panipat in April 1526\n"
     ]
    },
    {
     "data": {
      "text/plain": [
       "([NodeWithScore(node=Node(text='date: 2021-02-06\\n\\nThousands Of Farmers In India Blockade Highways Protesting New Agricultural Laws under the category: WORLD NEWS\\n People blocked highways around the country in the fight for the repeal of laws they say will put farmers at the mercy of big corporations.', doc_id='7286c762-9c9f-4b83-9dc3-933ebc93b572', embedding=None, doc_hash='f7839ef34220bcb94324245d2aafd3fd9d71120af3940aa12cebbb998f9b2e8c', extra_info={'date': '2021-02-06'}, node_info=None, relationships={<DocumentRelationship.SOURCE: '1'>: '7971eb07-72ee-4009-90ec-d5609fc12d39'}), score=0.0066411127)],\n",
       " [NodeWithScore(node=Node(text=\"date: 2015-02-04\\n\\nImpressions of India: Mumbai, Day Two under the category: TRAVEL\\n After our long overnight flight from New York, I have gained a greater appreciation for frequent flyers who travel half way 'round the world regularly. I could not have anticipated the effects of sleep deprivation and the ensuing topsy-turvy body clock until it happened to me!\", doc_id='5a630436-0d9b-4413-b675-e1f470f8995f', embedding=None, doc_hash='1ca08f0198beff37c10023ba7bcf5c894c408a68f6f2126af162c4ccdc540cf7', extra_info={'date': '2015-02-04'}, node_info=None, relationships={<DocumentRelationship.SOURCE: '1'>: '901e714a-2ae6-4a33-8008-ac42f68a46f5'}), score=0.7866563473692273),\n",
       "  NodeWithScore(node=Node(text='date: 2019-08-13\\n\\nKashmir Enters Another Day Of India-Imposed Lockdown And Internet Blackout under the category: WORLD NEWS\\n Some in the mostly-Muslim territory were allowed to walk to mosques for Eid over a week after India stripped the disputed Himalayan region of its autonomy.', doc_id='a28dc209-a959-4e78-912f-6e4dd024d589', embedding=None, doc_hash='5e8cb649dfc44370d044b2dfa12748f5de11bbe49274ab6981e306af918a318f', extra_info={'date': '2019-08-13'}, node_info=None, relationships={<DocumentRelationship.SOURCE: '1'>: '918f395c-da5f-4431-969c-f8f6dfd3157e'}), score=0.7855174027191117),\n",
       "  NodeWithScore(node=Node(text='date: 2020-02-26\\n\\nAt Least 20 Dead From Delhi Riots During Trump Trip under the category: WORLD NEWS\\n While violence between Hindu mobs and Muslims protesting a citizenship law gripped New Delhi, Prime Minister Modi hosted a lavish reception for Trump.', doc_id='3b7ad914-2378-4308-a02e-3ae61ddf8c3d', embedding=None, doc_hash='f59a03ed29ac0b777ca290190a5e25394a6827d7bb9d5fb01125586c8397b064', extra_info={'date': '2020-02-26'}, node_info=None, relationships={<DocumentRelationship.SOURCE: '1'>: '686ffc79-31eb-4e24-a1a7-cfd4f19ed8d5'}), score=0.784037951278777),\n",
       "  NodeWithScore(node=Node(text='date: 2016-06-22\\n\\nKabul in 1979 and 2016: A Mother and Daughter Reflect on Change under the category: THE WORLDPOST\\n In December 1979, the Soviet Union invaded Afghanistan, beginning 36 years of continuous war and conflict. Here, 26-year', doc_id='6b12c31d-c3c3-4e4a-add3-8db0a0e38192', embedding=None, doc_hash='46400869363065461f697cb77cc43ecfa5c9b6a9ef316f4c7e4f2c2a8aef0957', extra_info={'date': '2016-06-22'}, node_info=None, relationships={<DocumentRelationship.SOURCE: '1'>: '12a3d332-501f-497b-a9d9-0320af80940d'}), score=0.7807585989361303),\n",
       "  NodeWithScore(node=Node(text='date: 2015-04-08\\n\\nThe Prophet of \"Jordan\\'s Mists\" under the category: RELIGION\\n The sun comes up slowly on the banks of Louisiana\\'s bayou\\'s. Lazy mornings mark the arrival of day even as moss covered trees swing sweetly in the hot and steamy breeze.', doc_id='160cc336-b2bf-4647-98ac-ed897e8615b3', embedding=None, doc_hash='6ca5dc336ce8b9be51b37c0b2dda1125eccf4130493c451b8215ea7f69746545', extra_info={'date': '2015-04-08'}, node_info=None, relationships={<DocumentRelationship.SOURCE: '1'>: '58e52907-b20f-4783-87b4-887ed0a661fa'}), score=0.7671850888852447),\n",
       "  NodeWithScore(node=Node(text=\"date: 2012-01-30\\n\\nArchaeo-Tourists Mob Ancient Aztec, Mayan Ruins under the category: TRAVEL\\n They're checking out Chichen Itza, packing Palenque and tooling around Tulum: A whopping 10.6 million tourists explored Mexico's 183 publicly open archaeological sites last year, according to the country's National Institute of Anthropology and History.\", doc_id='c574ec52-f7ff-4061-8959-273fcbb23d20', embedding=None, doc_hash='4f84ac99708aeec13aecb88cb80ca1994ee6ab259d16d857a14d6bd954d2a6f5', extra_info={'date': '2012-01-30'}, node_info=None, relationships={<DocumentRelationship.SOURCE: '1'>: '5315605d-44f2-4036-900f-32acc07d15ba'}), score=0.7633085813946594),\n",
       "  NodeWithScore(node=Node(text='date: 2019-05-03\\n\\nCyclone Fani Slams Into Eastern India With 124 MPH Winds under the category: WORLD NEWS\\n The storm has brought down trees and power lines and “extensively” damaged the tourist town of Puri.', doc_id='d0bd5865-6963-4a0f-8b7b-28d36cddfb59', embedding=None, doc_hash='79e03813252f04210dd546b433dfaede37972cde8230f1cf5d670c9085ae059e', extra_info={'date': '2019-05-03'}, node_info=None, relationships={<DocumentRelationship.SOURCE: '1'>: '5579e198-7444-41e0-ae7b-c7168a240d06'}), score=0.760604414299223),\n",
       "  NodeWithScore(node=Node(text=\"date: 2016-05-11\\n\\nBangladesh Hangs Islamist Party Leader For Genocide under the category: THE WORLDPOST\\n The 73-year-old was convicted of genocide, rape and orchestrating the massacre of intellectuals during Bangladesh's war of independence.\", doc_id='ceacce91-b0a7-4120-8adb-cd20365ddf4d', embedding=None, doc_hash='98a2016ac5816f57575b6db8010de0ac4a96f261add604866b9dcd0d1f3eb3cd', extra_info={'date': '2016-05-11'}, node_info=None, relationships={<DocumentRelationship.SOURCE: '1'>: '2f8f85d6-01b2-42a8-be5f-13bfa66d05a9'}), score=0.7588565756465139),\n",
       "  NodeWithScore(node=Node(text=\"date: 2012-04-09\\n\\nA First-Timer's Guide To Central Asia under the category: TRAVEL\\n Read more on Lonely Planet (Photo: benpaarmann/Flickr) Ever imagined yourself riding horseback across the Eurasian steppe\", doc_id='68b6328a-10fa-495b-b421-2a8210d5aa54', embedding=None, doc_hash='245ead24dde83368320a9b6a7813a931d95b3988ada63319040d1b7dc93aa141', extra_info={'date': '2012-04-09'}, node_info=None, relationships={<DocumentRelationship.SOURCE: '1'>: 'c6475c2b-fc47-443c-8417-f788d090b0b2'}), score=0.7585152334394054),\n",
       "  NodeWithScore(node=Node(text='date: 2021-02-06\\n\\nThousands Of Farmers In India Blockade Highways Protesting New Agricultural Laws under the category: WORLD NEWS\\n People blocked highways around the country in the fight for the repeal of laws they say will put farmers at the mercy of big corporations.', doc_id='7286c762-9c9f-4b83-9dc3-933ebc93b572', embedding=None, doc_hash='f7839ef34220bcb94324245d2aafd3fd9d71120af3940aa12cebbb998f9b2e8c', extra_info={'date': '2021-02-06'}, node_info=None, relationships={<DocumentRelationship.SOURCE: '1'>: '7971eb07-72ee-4009-90ec-d5609fc12d39'}), score=0.7579399023004099)])"
      ]
     },
     "execution_count": 74,
     "metadata": {},
     "output_type": "execute_result"
    }
   ],
   "source": [
    "question = \"When did Mughals invade India?\"\n",
    "responses = compare_responses(question)\n",
    "print(\"Correct answer is Babur's victory in Battle of Panipat in April 1526\")\n",
    "responses[\"both\"].source_nodes, responses[\"qdrant\"].source_nodes"
   ]
  },
  {
   "cell_type": "code",
   "execution_count": 66,
   "metadata": {},
   "outputs": [
    {
     "name": "stdout",
     "output_type": "stream",
     "text": [
      "*****************************\n",
      "Question: Who won the latest Superbowl?\n",
      "*****************************\n",
      "No Postprocessor, Qdrant: \n",
      "The latest Super Bowl was Super Bowl LVI, which took place on February 13, 2022. The winner of Super Bowl LVI has not yet been determined.\n",
      "Recency: \n",
      "The Los Angeles Rams won the latest Super Bowl.\n",
      "Reranking: \n",
      "The latest Super Bowl was Super Bowl LVI, which was held on February 13, 2022. The Los Angeles Rams defeated the Cincinnati Bengals by a score of 31-23.\n",
      "Both: \n",
      "The Los Angeles Rams won the latest Super Bowl.\n"
     ]
    },
    {
     "data": {
      "text/plain": [
       "'Correct answer is Kansas Chiefs in May 2023, but the data cutoff is September 2022 for which Los Angeles Rams is the correct answer'"
      ]
     },
     "execution_count": 66,
     "metadata": {},
     "output_type": "execute_result"
    }
   ],
   "source": [
    "question = \"Who won the latest Superbowl?\"\n",
    "compare_responses(question)\n",
    "\"Correct answer is Kansas Chiefs in May 2023, but the data cutoff is September 2022 for which Los Angeles Rams is the correct answer\""
   ]
  },
  {
   "cell_type": "code",
   "execution_count": 67,
   "metadata": {},
   "outputs": [
    {
     "name": "stdout",
     "output_type": "stream",
     "text": [
      "****************************************************\n",
      "Question: When did Kargil war happen? Why is that significant?\n",
      "****************************************************\n",
      "No Postprocessor, Qdrant: \n",
      "The Kargil War happened in 1999. It was significant because it was the first major armed conflict between India and Pakistan since the 1971 Indo-Pakistani War, and it was fought in the Kargil district of Kashmir and elsewhere along the Line of Control (LOC). The conflict is also noted for being one of the first instances of high-altitude warfare in the world, as the two sides fought in the Himalayan mountains. The war resulted in a strategic victory for India, as it successfully managed to push back the Pakistani forces from the Kargil district.\n",
      "Recency: \n",
      "The Kargil War happened in 1999. It was significant because it was the first major armed conflict between India and Pakistan since the 1971 Indo-Pakistani War. The conflict resulted in a strategic victory for India, and it is seen as a major turning point in the relationship between the two countries.\n",
      "Reranking: \n",
      "The Kargil War happened in 1999. It was significant because it was the first major armed conflict between India and Pakistan since the 1971 Indo-Pakistani War, and it was the first time since the Partition of India in 1947 that the two nuclear-armed powers had engaged in direct military conflict. The conflict resulted in the loss of hundreds of lives and caused a major diplomatic crisis between the two countries.\n",
      "Both: \n",
      "The Kargil War happened in 1999. It was significant because it was the first major armed conflict between India and Pakistan since the 1971 Indo-Pakistani War. The conflict resulted in a strategic victory for India, and it is seen as a major turning point in the relationship between the two countries.\n"
     ]
    },
    {
     "data": {
      "text/plain": [
       "'1999, 2 nuclear countries went to war for the first time'"
      ]
     },
     "execution_count": 67,
     "metadata": {},
     "output_type": "execute_result"
    }
   ],
   "source": [
    "question = \"When did Kargil war happen? Why is that significant?\"\n",
    "compare_responses(question)\n",
    "\"1999, 2 nuclear countries went to war for the first time\""
   ]
  },
  {
   "cell_type": "code",
   "execution_count": 73,
   "metadata": {},
   "outputs": [
    {
     "name": "stdout",
     "output_type": "stream",
     "text": [
      "*************************************************\n",
      "Question: Who is the Indian Prime Minister in January 2014?\n",
      "*************************************************\n",
      "No Postprocessor, Qdrant: \n",
      "The Indian Prime Minister in January 2014 was Manmohan Singh.\n",
      "Recency: \n",
      "The Indian Prime Minister in January 2014 was Narendra Modi.\n",
      "Reranking: \n",
      "The Indian Prime Minister in January 2014 was Manmohan Singh.\n",
      "Both: \n",
      "The Indian Prime Minister in January 2014 was Narendra Modi.\n"
     ]
    }
   ],
   "source": [
    "question = \"Who is the Indian Prime Minister in January 2014?\"\n",
    "responses = compare_responses(question)"
   ]
  }
 ],
 "metadata": {
  "kernelspec": {
   "display_name": "Python 3 (ipykernel)",
   "language": "python",
   "name": "python3"
  },
  "language_info": {
   "codemirror_mode": {
    "name": "ipython",
    "version": 3
   },
   "file_extension": ".py",
   "mimetype": "text/x-python",
   "name": "python",
   "nbconvert_exporter": "python",
   "pygments_lexer": "ipython3",
   "version": "3.11.3"
  }
 },
 "nbformat": 4,
 "nbformat_minor": 2
}
